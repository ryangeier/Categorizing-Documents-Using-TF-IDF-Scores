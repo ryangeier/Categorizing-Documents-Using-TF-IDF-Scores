{
  "nbformat": 4,
  "nbformat_minor": 0,
  "metadata": {
    "colab": {
      "provenance": [],
      "authorship_tag": "ABX9TyOg52xOApBr8wALKL/HVWpi"
    },
    "kernelspec": {
      "name": "python3",
      "display_name": "Python 3"
    },
    "language_info": {
      "name": "python"
    }
  },
  "cells": [
    {
      "cell_type": "markdown",
      "source": [
        "# Task 1:\n",
        "\n",
        "Load the packages and data"
      ],
      "metadata": {
        "id": "cHkt0irTaOK5"
      }
    },
    {
      "cell_type": "code",
      "execution_count": 7,
      "metadata": {
        "id": "R5CkiP4IZrEm"
      },
      "outputs": [],
      "source": [
        "#import libraries\n",
        "import numpy as np #used to quickly perform mathematical calculations on vectors\n",
        "import pandas as pd #allows us to work with data using Pandas dataframes\n",
        "import re #regular expressions -- used in this assignment to clean the text data\n",
        "import sqlite3 #used to interact with the database\n",
        "from collections import Counter #used to quickly count letters and words\n",
        "from sklearn.feature_extraction.text import TfidfVectorizer\n",
        "from sklearn.cluster import AgglomerativeClustering, KMeans #used to perform agglomerative and divisive clustering\n",
        "from sklearn.metrics.pairwise import cosine_similarity #used to compute cosine similarities between documents"
      ]
    },
    {
      "cell_type": "code",
      "source": [
        "#open a connection to the database\n",
        "conn = sqlite3.connect('Project 01 - Database.db')\n",
        "\n",
        "sql = 'SELECT * FROM Article'\n",
        "df = pd.read_sql_query(sql, conn, index_col='id')\n",
        "\n",
        "#close database connection\n",
        "conn.close()"
      ],
      "metadata": {
        "id": "iFnebEjKZuWU"
      },
      "execution_count": 2,
      "outputs": []
    },
    {
      "cell_type": "markdown",
      "source": [
        "# Task 2:\n",
        "\n",
        "Preprocess (clean) each article’s text so\n",
        "that it is suitable for analysis"
      ],
      "metadata": {
        "id": "3OzzsRakaHjI"
      }
    },
    {
      "cell_type": "code",
      "source": [
        "#define a function that will clean the raw input text in preparation for analysis. Returns a tuple containing\n",
        "#both the cleaned text and the total number of words in the cleaned text.\n",
        "def get_clean_text(raw_text):\n",
        "  #find any period-separated acronyms (e.g., 'U.S.A', 'L.A.', etc.)\n",
        "  period_separated_acronyms = re.findall(r'(?:[A-Z]\\.){2,}', raw_text)\n",
        "  #remove periods from any period-separated acronyms\n",
        "  for i in range(len(period_separated_acronyms)):\n",
        "    acronym = period_separated_acronyms[i].replace('.', '')\n",
        "    raw_text = raw_text.replace(period_separated_acronyms[i], acronym)\n",
        "  #remove all numbers from the text using a regular expression\n",
        "  text = re.sub(r'[0-9]', ' ', raw_text)\n",
        "  #remove all underscores from the text\n",
        "  text = re.sub(r'\\_', ' ', text)\n",
        "  #remove anything else in the text that isn't a word character or a space (e.g., punctuation, special symbols, etc.)\n",
        "  text = re.sub(r'[^\\w\\s]', ' ', text)\n",
        "  #remove any excess whitespace\n",
        "  for _ in range(10):\n",
        "    text = text.replace('  ', ' ')\n",
        "  #remove any leading or trailing space characters\n",
        "  text = text.strip()\n",
        "  #split the text into a list of words\n",
        "  words = text.split()\n",
        "  #convert all non-acronyms to lowercase\n",
        "  for i in range(len(words)): #for each index in the words collection\n",
        "    word = words[i] #define the current word\n",
        "    if len(word) > 1 and len(word) < 7: #if this word is two to six characters long\n",
        "      if word.isupper() == False: #if at least one character in this word is not uppercase\n",
        "        #this word is not an acronym because it is not all uppercase, so convert it to lowercase\n",
        "        words[i] = word.lower()\n",
        "    else: #this word is not an acronym because it consists of one letter or more than six letters, so convert it to lowercase\n",
        "      words[i] = word.lower()\n",
        "  #return the cleaned text and the number of words in the cleaned text\n",
        "  return (' '.join(words), len(words))\n"
      ],
      "metadata": {
        "id": "x9j8G2lVZ3R_"
      },
      "execution_count": 3,
      "outputs": []
    },
    {
      "cell_type": "code",
      "source": [
        "#clean the raw text of each article and save the resulting cleaned text and total number of words for\n",
        "#each article in new dataframe columns named 'clean_text' and 'total_words'.\n",
        "df[['clean_text', 'total_words']] = [get_clean_text(article_raw_text) for article_raw_text in df.raw_text]"
      ],
      "metadata": {
        "id": "SLawMo_F2OWC"
      },
      "execution_count": 4,
      "outputs": []
    },
    {
      "cell_type": "markdown",
      "source": [
        "# Task 3:\n",
        "\n",
        "Compute the term frequency - inverse document frequency (TF-IDF) for each word in the vocabulary.\n",
        "\n",
        "Term Frequency (TF):\n",
        "For each word w appearing in a document d, the TF for w in d is computed as: (F w,d/Nd)\n",
        ", where F w,d is the number of times the word w appears in document d, and Nd is the total number of words in d.\n",
        "\n",
        "Inverse Document Frequency (IDF):\n",
        "For each word w in the vocabulary, the IDF for w is computed as: log(𝑁/𝑁𝑤)\n",
        ", where N is the total number of documents in the corpus and Nw is the number of documents in the corpus that contain the word w.\n",
        "\n",
        "scikit-learn's TfidfVectorizer is a useful package here."
      ],
      "metadata": {
        "id": "F6cQMzGf1BsF"
      }
    },
    {
      "cell_type": "code",
      "source": [
        "#build the vocabulary of unique words and compute TF-IDF scores for each article\n",
        "vectorizer = TfidfVectorizer(lowercase=False)\n",
        "article_tfidf_scores = np.array(vectorizer.fit_transform(df.clean_text).todense())\n",
        "vocabulary = vectorizer.vocabulary_\n",
        "\n",
        "#add each article's vector of TF-IDF scores to the dataframe\n",
        "df['tfidf_scores'] = [tfidf_scores for tfidf_scores in article_tfidf_scores]"
      ],
      "metadata": {
        "id": "1V0f3WLY1GVA"
      },
      "execution_count": 5,
      "outputs": []
    },
    {
      "cell_type": "markdown",
      "source": [
        "# Task 4:\n",
        "\n",
        "Use Hierarchial Agglomerative Clustering to group the articles into 5 clusters, one for each news subject"
      ],
      "metadata": {
        "id": "zC4z-OBJ3F4m"
      }
    },
    {
      "cell_type": "code",
      "source": [
        "#use hierarchical agglomerative clustering to group the articles into three clusters,\n",
        "#and add the resulting cluster assignments to the dataframe\n",
        "model = AgglomerativeClustering(n_clusters=5)\n",
        "cluster_ids = model.fit_predict(df.tfidf_scores.to_list())\n",
        "df['agglomerative_cluster_id'] = [cluster_id for cluster_id in cluster_ids]"
      ],
      "metadata": {
        "id": "AwOK0t8_2hA8"
      },
      "execution_count": 8,
      "outputs": []
    },
    {
      "cell_type": "markdown",
      "source": [
        "# Task 5:\n",
        "\n",
        "Use Divisive Clustering to group the articles into 5 clusters, using K-means approach. "
      ],
      "metadata": {
        "id": "nn1rxS9N3mfW"
      }
    },
    {
      "cell_type": "code",
      "source": [
        "#use k-means divisive clustering to group the articles into three clusters,\n",
        "#and add the resulting cluster assignments to the dataframe\n",
        "model = KMeans(n_clusters=5, random_state=321)\n",
        "cluster_ids = model.fit_predict(df.tfidf_scores.to_list())\n",
        "df['divisive_cluster_id'] = [cluster_id for cluster_id in cluster_ids]"
      ],
      "metadata": {
        "colab": {
          "base_uri": "https://localhost:8080/"
        },
        "id": "O1g9KPN73gwo",
        "outputId": "47f38959-3ccd-4a2a-f3ee-2184d1b1cb90"
      },
      "execution_count": 9,
      "outputs": [
        {
          "output_type": "stream",
          "name": "stderr",
          "text": [
            "/usr/local/lib/python3.10/dist-packages/sklearn/cluster/_kmeans.py:870: FutureWarning: The default value of `n_init` will change from 10 to 'auto' in 1.4. Set the value of `n_init` explicitly to suppress the warning\n",
            "  warnings.warn(\n"
          ]
        }
      ]
    },
    {
      "cell_type": "code",
      "source": [
        "#See results of the different approaches. An ensemble approach could be useful here with a tie-breaker algorithm added. \n",
        "#Note that cluster id's may not be identical as we didn't define what topic a cluster id belonged to. \n",
        "df.head()"
      ],
      "metadata": {
        "colab": {
          "base_uri": "https://localhost:8080/",
          "height": 455
        },
        "id": "TbfrZssZ5fy9",
        "outputId": "8d447c32-9c04-485d-b7c2-107c380f7c9a"
      },
      "execution_count": 10,
      "outputs": [
        {
          "output_type": "execute_result",
          "data": {
            "text/plain": [
              "       category                                           raw_text  \\\n",
              "id                                                                   \n",
              "6347   Politics  Hiding women away in the home hidden behind ve...   \n",
              "13840    Sports  Celtic brushed aside Clyde to secure their pla...   \n",
              "14775   Unknown  If you have finished Doom 3, Half Life 2 and H...   \n",
              "16641   Unknown  Controversial new UK casinos will be banned fr...   \n",
              "17511   Unknown  Justine Henin-Hardenne lost to Elena Dementiev...   \n",
              "\n",
              "                                              clean_text total_words  \\\n",
              "id                                                                     \n",
              "6347   hiding women away in the home hidden behind ve...         454   \n",
              "13840  celtic brushed aside clyde to secure their pla...         495   \n",
              "14775  if you have finished doom half life and halo d...         499   \n",
              "16641  controversial new UK casinos will be banned fr...         274   \n",
              "17511  justine henin hardenne lost to elena dementiev...         318   \n",
              "\n",
              "                                            tfidf_scores  \\\n",
              "id                                                         \n",
              "6347   [0.0, 0.0, 0.0, 0.0, 0.0, 0.0, 0.0, 0.0, 0.0, ...   \n",
              "13840  [0.0, 0.0, 0.0, 0.0, 0.0, 0.0, 0.0, 0.0, 0.0, ...   \n",
              "14775  [0.0, 0.0, 0.0, 0.0, 0.0, 0.0, 0.0, 0.0, 0.0, ...   \n",
              "16641  [0.0, 0.0, 0.0, 0.0, 0.0, 0.0, 0.0, 0.0, 0.0, ...   \n",
              "17511  [0.0, 0.0, 0.0, 0.0, 0.0, 0.0, 0.0, 0.0, 0.0, ...   \n",
              "\n",
              "       agglomerative_cluster_id  divisive_cluster_id  \n",
              "id                                                    \n",
              "6347                          1                    2  \n",
              "13840                         3                    1  \n",
              "14775                         4                    2  \n",
              "16641                         1                    2  \n",
              "17511                         0                    1  "
            ],
            "text/html": [
              "\n",
              "  <div id=\"df-4e42f1b6-5744-49a1-a928-538f3ded2f7a\">\n",
              "    <div class=\"colab-df-container\">\n",
              "      <div>\n",
              "<style scoped>\n",
              "    .dataframe tbody tr th:only-of-type {\n",
              "        vertical-align: middle;\n",
              "    }\n",
              "\n",
              "    .dataframe tbody tr th {\n",
              "        vertical-align: top;\n",
              "    }\n",
              "\n",
              "    .dataframe thead th {\n",
              "        text-align: right;\n",
              "    }\n",
              "</style>\n",
              "<table border=\"1\" class=\"dataframe\">\n",
              "  <thead>\n",
              "    <tr style=\"text-align: right;\">\n",
              "      <th></th>\n",
              "      <th>category</th>\n",
              "      <th>raw_text</th>\n",
              "      <th>clean_text</th>\n",
              "      <th>total_words</th>\n",
              "      <th>tfidf_scores</th>\n",
              "      <th>agglomerative_cluster_id</th>\n",
              "      <th>divisive_cluster_id</th>\n",
              "    </tr>\n",
              "    <tr>\n",
              "      <th>id</th>\n",
              "      <th></th>\n",
              "      <th></th>\n",
              "      <th></th>\n",
              "      <th></th>\n",
              "      <th></th>\n",
              "      <th></th>\n",
              "      <th></th>\n",
              "    </tr>\n",
              "  </thead>\n",
              "  <tbody>\n",
              "    <tr>\n",
              "      <th>6347</th>\n",
              "      <td>Politics</td>\n",
              "      <td>Hiding women away in the home hidden behind ve...</td>\n",
              "      <td>hiding women away in the home hidden behind ve...</td>\n",
              "      <td>454</td>\n",
              "      <td>[0.0, 0.0, 0.0, 0.0, 0.0, 0.0, 0.0, 0.0, 0.0, ...</td>\n",
              "      <td>1</td>\n",
              "      <td>2</td>\n",
              "    </tr>\n",
              "    <tr>\n",
              "      <th>13840</th>\n",
              "      <td>Sports</td>\n",
              "      <td>Celtic brushed aside Clyde to secure their pla...</td>\n",
              "      <td>celtic brushed aside clyde to secure their pla...</td>\n",
              "      <td>495</td>\n",
              "      <td>[0.0, 0.0, 0.0, 0.0, 0.0, 0.0, 0.0, 0.0, 0.0, ...</td>\n",
              "      <td>3</td>\n",
              "      <td>1</td>\n",
              "    </tr>\n",
              "    <tr>\n",
              "      <th>14775</th>\n",
              "      <td>Unknown</td>\n",
              "      <td>If you have finished Doom 3, Half Life 2 and H...</td>\n",
              "      <td>if you have finished doom half life and halo d...</td>\n",
              "      <td>499</td>\n",
              "      <td>[0.0, 0.0, 0.0, 0.0, 0.0, 0.0, 0.0, 0.0, 0.0, ...</td>\n",
              "      <td>4</td>\n",
              "      <td>2</td>\n",
              "    </tr>\n",
              "    <tr>\n",
              "      <th>16641</th>\n",
              "      <td>Unknown</td>\n",
              "      <td>Controversial new UK casinos will be banned fr...</td>\n",
              "      <td>controversial new UK casinos will be banned fr...</td>\n",
              "      <td>274</td>\n",
              "      <td>[0.0, 0.0, 0.0, 0.0, 0.0, 0.0, 0.0, 0.0, 0.0, ...</td>\n",
              "      <td>1</td>\n",
              "      <td>2</td>\n",
              "    </tr>\n",
              "    <tr>\n",
              "      <th>17511</th>\n",
              "      <td>Unknown</td>\n",
              "      <td>Justine Henin-Hardenne lost to Elena Dementiev...</td>\n",
              "      <td>justine henin hardenne lost to elena dementiev...</td>\n",
              "      <td>318</td>\n",
              "      <td>[0.0, 0.0, 0.0, 0.0, 0.0, 0.0, 0.0, 0.0, 0.0, ...</td>\n",
              "      <td>0</td>\n",
              "      <td>1</td>\n",
              "    </tr>\n",
              "  </tbody>\n",
              "</table>\n",
              "</div>\n",
              "      <button class=\"colab-df-convert\" onclick=\"convertToInteractive('df-4e42f1b6-5744-49a1-a928-538f3ded2f7a')\"\n",
              "              title=\"Convert this dataframe to an interactive table.\"\n",
              "              style=\"display:none;\">\n",
              "        \n",
              "  <svg xmlns=\"http://www.w3.org/2000/svg\" height=\"24px\"viewBox=\"0 0 24 24\"\n",
              "       width=\"24px\">\n",
              "    <path d=\"M0 0h24v24H0V0z\" fill=\"none\"/>\n",
              "    <path d=\"M18.56 5.44l.94 2.06.94-2.06 2.06-.94-2.06-.94-.94-2.06-.94 2.06-2.06.94zm-11 1L8.5 8.5l.94-2.06 2.06-.94-2.06-.94L8.5 2.5l-.94 2.06-2.06.94zm10 10l.94 2.06.94-2.06 2.06-.94-2.06-.94-.94-2.06-.94 2.06-2.06.94z\"/><path d=\"M17.41 7.96l-1.37-1.37c-.4-.4-.92-.59-1.43-.59-.52 0-1.04.2-1.43.59L10.3 9.45l-7.72 7.72c-.78.78-.78 2.05 0 2.83L4 21.41c.39.39.9.59 1.41.59.51 0 1.02-.2 1.41-.59l7.78-7.78 2.81-2.81c.8-.78.8-2.07 0-2.86zM5.41 20L4 18.59l7.72-7.72 1.47 1.35L5.41 20z\"/>\n",
              "  </svg>\n",
              "      </button>\n",
              "      \n",
              "  <style>\n",
              "    .colab-df-container {\n",
              "      display:flex;\n",
              "      flex-wrap:wrap;\n",
              "      gap: 12px;\n",
              "    }\n",
              "\n",
              "    .colab-df-convert {\n",
              "      background-color: #E8F0FE;\n",
              "      border: none;\n",
              "      border-radius: 50%;\n",
              "      cursor: pointer;\n",
              "      display: none;\n",
              "      fill: #1967D2;\n",
              "      height: 32px;\n",
              "      padding: 0 0 0 0;\n",
              "      width: 32px;\n",
              "    }\n",
              "\n",
              "    .colab-df-convert:hover {\n",
              "      background-color: #E2EBFA;\n",
              "      box-shadow: 0px 1px 2px rgba(60, 64, 67, 0.3), 0px 1px 3px 1px rgba(60, 64, 67, 0.15);\n",
              "      fill: #174EA6;\n",
              "    }\n",
              "\n",
              "    [theme=dark] .colab-df-convert {\n",
              "      background-color: #3B4455;\n",
              "      fill: #D2E3FC;\n",
              "    }\n",
              "\n",
              "    [theme=dark] .colab-df-convert:hover {\n",
              "      background-color: #434B5C;\n",
              "      box-shadow: 0px 1px 3px 1px rgba(0, 0, 0, 0.15);\n",
              "      filter: drop-shadow(0px 1px 2px rgba(0, 0, 0, 0.3));\n",
              "      fill: #FFFFFF;\n",
              "    }\n",
              "  </style>\n",
              "\n",
              "      <script>\n",
              "        const buttonEl =\n",
              "          document.querySelector('#df-4e42f1b6-5744-49a1-a928-538f3ded2f7a button.colab-df-convert');\n",
              "        buttonEl.style.display =\n",
              "          google.colab.kernel.accessAllowed ? 'block' : 'none';\n",
              "\n",
              "        async function convertToInteractive(key) {\n",
              "          const element = document.querySelector('#df-4e42f1b6-5744-49a1-a928-538f3ded2f7a');\n",
              "          const dataTable =\n",
              "            await google.colab.kernel.invokeFunction('convertToInteractive',\n",
              "                                                     [key], {});\n",
              "          if (!dataTable) return;\n",
              "\n",
              "          const docLinkHtml = 'Like what you see? Visit the ' +\n",
              "            '<a target=\"_blank\" href=https://colab.research.google.com/notebooks/data_table.ipynb>data table notebook</a>'\n",
              "            + ' to learn more about interactive tables.';\n",
              "          element.innerHTML = '';\n",
              "          dataTable['output_type'] = 'display_data';\n",
              "          await google.colab.output.renderOutput(dataTable, element);\n",
              "          const docLink = document.createElement('div');\n",
              "          docLink.innerHTML = docLinkHtml;\n",
              "          element.appendChild(docLink);\n",
              "        }\n",
              "      </script>\n",
              "    </div>\n",
              "  </div>\n",
              "  "
            ]
          },
          "metadata": {},
          "execution_count": 10
        }
      ]
    }
  ]
}